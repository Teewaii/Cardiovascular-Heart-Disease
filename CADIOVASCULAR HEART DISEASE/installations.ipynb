version https://git-lfs.github.com/spec/v1
oid sha256:b302655e910285b1659cfa23be083550265f26e231cc3c7a3335a072d1a61c30
size 16013
